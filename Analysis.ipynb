{
 "cells": [
  {
   "cell_type": "code",
   "execution_count": 24,
   "metadata": {},
   "outputs": [],
   "source": [
    "import pandas as pd\n",
    "import numpy as np\n",
    "from datetime import datetime\n",
    "from pathlib2 import Path\n",
    "\n",
    "\n",
    "from Database.DB import DB_object\n",
    "from Database import *\n",
    "from MachineLearning.Labeling import *"
   ]
  },
  {
   "cell_type": "code",
   "execution_count": 25,
   "metadata": {},
   "outputs": [
    {
     "name": "stdout",
     "output_type": "stream",
     "text": [
      "Create Connection to SQL Lite\n",
      "Create Connection to SQL Lite\n",
      "running sqlite3 version :2.6.0, Connection to Database on: /Users/richard.wieland/Desktop/Projects/Finance_Platform-master/Database/stocks.db)\n"
     ]
    }
   ],
   "source": [
    "\n",
    "\n",
    "\n",
    "# update remove duplicates to stage\n",
    "\n",
    "\n",
    "\n",
    "DB_DIR = Path('__file__').resolve().parent.joinpath('Database/stocks.db')\n",
    "DB_instance = DB_object(str(DB_DIR))\n",
    "conn = DB_instance.create_connection()\n",
    "print(DB_instance)\n",
    "\n"
   ]
  },
  {
   "cell_type": "code",
   "execution_count": null,
   "metadata": {},
   "outputs": [],
   "source": []
  },
  {
   "cell_type": "code",
   "execution_count": 26,
   "metadata": {},
   "outputs": [],
   "source": [
    "\n",
    "\n",
    "stock_frame = DB.query(conn, 'Stock_Calc', YEAR=2020)\n",
    "\n",
    "\n",
    "Return_Matrix = Create_Return_Matrix(stock_frame)\n",
    "\n",
    "portfolio = Portfolio_Best_Return(Return_Matrix, Num=3, Period='Month')\n",
    "\n",
    "test3 = create_labels(stock_frame, portfolio)\n",
    "\n"
   ]
  },
  {
   "cell_type": "code",
   "execution_count": null,
   "metadata": {
    "scrolled": true
   },
   "outputs": [],
   "source": []
  },
  {
   "cell_type": "code",
   "execution_count": null,
   "metadata": {},
   "outputs": [],
   "source": []
  },
  {
   "cell_type": "code",
   "execution_count": null,
   "metadata": {},
   "outputs": [],
   "source": []
  },
  {
   "cell_type": "code",
   "execution_count": null,
   "metadata": {},
   "outputs": [],
   "source": []
  }
 ],
 "metadata": {
  "kernelspec": {
   "display_name": "Python 3",
   "language": "python",
   "name": "python3"
  },
  "language_info": {
   "codemirror_mode": {
    "name": "ipython",
    "version": 3
   },
   "file_extension": ".py",
   "mimetype": "text/x-python",
   "name": "python",
   "nbconvert_exporter": "python",
   "pygments_lexer": "ipython3",
   "version": "3.6.10"
  }
 },
 "nbformat": 4,
 "nbformat_minor": 4
}
